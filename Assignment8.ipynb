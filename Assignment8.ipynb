{
 "cells": [
  {
   "cell_type": "code",
   "execution_count": 11,
   "id": "ad60ccd2-f694-4d59-b57a-cc7d500fa863",
   "metadata": {},
   "outputs": [
    {
     "name": "stdin",
     "output_type": "stream",
     "text": [
      "please enter your password SANDEEa@FF\n"
     ]
    },
    {
     "name": "stdout",
     "output_type": "stream",
     "text": [
      "password ok\n",
      "strong password\n"
     ]
    }
   ],
   "source": [
    "password=input('please enter your password')\n",
    "if len(password)>12 or len(password)<10:\n",
    "    print('maximum length of password:12 and minimum is 6')\n",
    "else:\n",
    "    print('password ok')\n",
    "if password.isalnum()==password or password.upper()==password or password.lower()==password:\n",
    "    print('password must have 1(a-z),1(A-Z),1(0-9)')\n",
    "elif password.isalnum()==password and password.upper()==password or password.lower()==password:\n",
    "    print('password must have 1(a-z),1(A-Z),1(0-9)')\n",
    "elif password.isalnum()==password and password.upper()==password and password.lower()==password:\n",
    "    print('password must have 1(a-z),1(A-Z),1(0-9)')\n",
    "else:\n",
    "    print('strong password')\n",
    "\n"
   ]
  },
  {
   "cell_type": "code",
   "execution_count": 25,
   "id": "eccb76c3-1310-4231-84eb-54fcda455e17",
   "metadata": {},
   "outputs": [
    {
     "data": {
      "text/plain": [
       "[True]"
      ]
     },
     "execution_count": 25,
     "metadata": {},
     "output_type": "execute_result"
    }
   ],
   "source": [
    "#Ans2:\n",
    "s='sandeep'\n",
    "[True if (s.startswith('s')) else False]"
   ]
  },
  {
   "cell_type": "code",
   "execution_count": 3,
   "id": "d02bf8d8-9753-4d9b-bdf4-ecff83a0ed8b",
   "metadata": {},
   "outputs": [
    {
     "data": {
      "text/plain": [
       "[True]"
      ]
     },
     "execution_count": 3,
     "metadata": {},
     "output_type": "execute_result"
    }
   ],
   "source": [
    "s='123456'\n",
    "[True if(type(int(s))==int) else False]\n"
   ]
  },
  {
   "cell_type": "code",
   "execution_count": 4,
   "id": "00481e15-eb78-4dc2-9a00-cd16e375c56a",
   "metadata": {},
   "outputs": [
    {
     "name": "stdout",
     "output_type": "stream",
     "text": [
      "[('orange', 80), ('mango', 99), ('grapes', 1000)]\n"
     ]
    }
   ],
   "source": [
    "l=[(\"mango\",99),(\"orange\",80), (\"grapes\", 1000)]\n",
    "l.sort(key=lambda a: a[1])\n",
    "print(l)"
   ]
  },
  {
   "cell_type": "code",
   "execution_count": 1,
   "id": "6cd4f1f9-55d3-4a2e-b602-e6a86682c478",
   "metadata": {},
   "outputs": [
    {
     "data": {
      "text/plain": [
       "[1, 4, 9, 16, 25, 36, 49, 64, 81, 100]"
      ]
     },
     "execution_count": 1,
     "metadata": {},
     "output_type": "execute_result"
    }
   ],
   "source": [
    "l=[1,2,3,4,5,6,7,8,9,10]\n",
    "list(map(lambda x:x**2,l))"
   ]
  },
  {
   "cell_type": "code",
   "execution_count": 2,
   "id": "1db27519-4a86-4103-a266-dd9a2c1089f4",
   "metadata": {},
   "outputs": [
    {
     "data": {
      "text/plain": [
       "[1.0,\n",
       " 1.2599210498948732,\n",
       " 1.4422495703074083,\n",
       " 1.5874010519681994,\n",
       " 1.7099759466766968,\n",
       " 1.8171205928321397,\n",
       " 1.912931182772389,\n",
       " 2.0,\n",
       " 2.080083823051904,\n",
       " 2.154434690031884]"
      ]
     },
     "execution_count": 2,
     "metadata": {},
     "output_type": "execute_result"
    }
   ],
   "source": [
    "import math\n",
    "l=[1,2,3,4,5,6,7,8,9,10]\n",
    "list(map(lambda x:math.pow(x,1/3),l))"
   ]
  },
  {
   "cell_type": "code",
   "execution_count": 2,
   "id": "4d8ac2ea-ab55-4c50-9c29-e416536c2010",
   "metadata": {},
   "outputs": [
    {
     "name": "stdin",
     "output_type": "stream",
     "text": [
      "enter the number 6\n"
     ]
    },
    {
     "data": {
      "text/plain": [
       "[True]"
      ]
     },
     "execution_count": 2,
     "metadata": {},
     "output_type": "execute_result"
    }
   ],
   "source": [
    "n=int(input('enter the number'))\n",
    "[True if n%2==0 else False]"
   ]
  },
  {
   "cell_type": "code",
   "execution_count": 3,
   "id": "64ece515-0e28-4883-90f7-d5455af287aa",
   "metadata": {},
   "outputs": [
    {
     "data": {
      "text/plain": [
       "[1, 3, 5, 7, 9]"
      ]
     },
     "execution_count": 3,
     "metadata": {},
     "output_type": "execute_result"
    }
   ],
   "source": [
    "l=[1,2,3,4,5,6,7,8,9,10]\n",
    "list(filter(lambda x:x%2!=0,l))"
   ]
  },
  {
   "cell_type": "code",
   "execution_count": 8,
   "id": "455f7a1d-2b7a-455e-999b-5aa860fff050",
   "metadata": {},
   "outputs": [
    {
     "name": "stdout",
     "output_type": "stream",
     "text": [
      "[1, 2, 3, 4, 5, 6, 0]\n",
      "[-1, -2, -3, -4, -5]\n"
     ]
    }
   ],
   "source": [
    "l=[1,2,3,4,5,6,-1,-2,-3,-4,-5,0]\n",
    "n_num=[]\n",
    "p_num=[]\n",
    "for i in l:\n",
    "    if i>=0:\n",
    "        p_num.append(i)\n",
    "    else:\n",
    "        n_num.append(i)\n",
    "print(p_num)\n",
    "print(n_num)"
   ]
  },
  {
   "cell_type": "code",
   "execution_count": null,
   "id": "2260fb3b-3782-41d7-9bc9-7f3347c3f845",
   "metadata": {},
   "outputs": [],
   "source": []
  }
 ],
 "metadata": {
  "kernelspec": {
   "display_name": "Python 3 (ipykernel)",
   "language": "python",
   "name": "python3"
  },
  "language_info": {
   "codemirror_mode": {
    "name": "ipython",
    "version": 3
   },
   "file_extension": ".py",
   "mimetype": "text/x-python",
   "name": "python",
   "nbconvert_exporter": "python",
   "pygments_lexer": "ipython3",
   "version": "3.10.8"
  }
 },
 "nbformat": 4,
 "nbformat_minor": 5
}
